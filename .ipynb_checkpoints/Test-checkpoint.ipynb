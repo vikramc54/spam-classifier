{
 "cells": [
  {
   "cell_type": "code",
   "execution_count": 30,
   "metadata": {},
   "outputs": [],
   "source": [
    "import email\n",
    "import email.policy as policy\n",
    "import os\n",
    "from bs4 import BeautifulSoup\n",
    "from urlextract import URLExtract\n",
    "import re\n",
    "from nltk.corpus import stopwords\n",
    "from nltk.tokenize import word_tokenize\n",
    "from nltk.stem import PorterStemmer\n",
    "from wordcloud import WordCloud, STOPWORDS\n",
    "import matplotlib.pyplot as plt"
   ]
  },
  {
   "cell_type": "code",
   "execution_count": 2,
   "metadata": {},
   "outputs": [
    {
     "ename": "FileNotFoundError",
     "evalue": "[Errno 2] No such file or directory: 'C:\\\\Users\\\\Windows10\\\\Desktop\\\\Machine Learning\\\\Spam Classifier\\\\Spam\\\\spam\\\\cmds'",
     "output_type": "error",
     "traceback": [
      "\u001b[1;31m---------------------------------------------------------------------------\u001b[0m",
      "\u001b[1;31mFileNotFoundError\u001b[0m                         Traceback (most recent call last)",
      "\u001b[1;32m<ipython-input-2-111cd8ed88ec>\u001b[0m in \u001b[0;36m<module>\u001b[1;34m\u001b[0m\n\u001b[1;32m----> 1\u001b[1;33m \u001b[1;32mwith\u001b[0m \u001b[0mopen\u001b[0m\u001b[1;33m(\u001b[0m\u001b[1;34m\"C:\\\\Users\\\\Windows10\\\\Desktop\\\\Machine Learning\\\\Spam Classifier\\\\Spam\\\\spam\\\\cmds\"\u001b[0m\u001b[1;33m)\u001b[0m \u001b[1;32mas\u001b[0m \u001b[0mf\u001b[0m\u001b[1;33m:\u001b[0m\u001b[1;33m\u001b[0m\u001b[1;33m\u001b[0m\u001b[0m\n\u001b[0m\u001b[0;32m      2\u001b[0m \u001b[1;31m#     print(f)\u001b[0m\u001b[1;33m\u001b[0m\u001b[1;33m\u001b[0m\u001b[1;33m\u001b[0m\u001b[0m\n\u001b[0;32m      3\u001b[0m \u001b[1;31m#     for line in f:\u001b[0m\u001b[1;33m\u001b[0m\u001b[1;33m\u001b[0m\u001b[1;33m\u001b[0m\u001b[0m\n\u001b[0;32m      4\u001b[0m \u001b[1;31m#         print(line)\u001b[0m\u001b[1;33m\u001b[0m\u001b[1;33m\u001b[0m\u001b[1;33m\u001b[0m\u001b[0m\n\u001b[0;32m      5\u001b[0m \u001b[1;33m\u001b[0m\u001b[0m\n",
      "\u001b[1;31mFileNotFoundError\u001b[0m: [Errno 2] No such file or directory: 'C:\\\\Users\\\\Windows10\\\\Desktop\\\\Machine Learning\\\\Spam Classifier\\\\Spam\\\\spam\\\\cmds'"
     ]
    }
   ],
   "source": [
    "with open(\"C:\\\\Users\\\\Windows10\\\\Desktop\\\\Machine Learning\\\\Spam Classifier\\\\Spam\\\\spam\\\\cmds\") as f:\n",
    "#     print(f)\n",
    "#     for line in f:\n",
    "#         print(line)\n",
    "        \n",
    "    mail = email.parser.Parser(policy = policy.default).parse(f)\n",
    "    print(BeautifulSoup(mail.get_content()).get_text().replace(\"\\n\\n\\n\", \"\"))"
   ]
  },
  {
   "cell_type": "code",
   "execution_count": 4,
   "metadata": {},
   "outputs": [
    {
     "name": "stdout",
     "output_type": "stream",
     "text": [
      "more than   numberpresent  in debt \n",
      "\n",
      "we can help you pay off your bills  \n",
      "click here for your free consultation  \n",
      " urllink \n",
      "\n",
      " cut your monthly payments by  numberpresent   or even more   \n",
      " stop paying creditors high interest rates \n",
      " better manage your financial situation   keep more cash every month \n",
      " we can help stop any creditor harassment \n",
      " consolidate regardless of past credit history \n",
      "\n",
      "quick   confidential   no obligations  \n",
      "click on the link below to get started  \n",
      " urllink \n",
      "\n",
      "                                               \n",
      "\n",
      "to be removed from all further mailings  \n",
      "please send a message to   numberpresent remove webs mysprintfast com \n",
      "we honor all remove requests \n",
      "\n",
      "['more', 'than', 'numberpresent', 'in', 'debt', 'we', 'can', 'help', 'you', 'pay', 'off', 'your', 'bills', 'click', 'here', 'for', 'your', 'free', 'consultation', 'urllink', 'cut', 'your', 'monthly', 'payments', 'by', 'numberpresent', 'or', 'even', 'more', 'stop', 'paying', 'creditors', 'high', 'interest', 'rates', 'better', 'manage', 'your', 'financial', 'situation', 'keep', 'more', 'cash', 'every', 'month', 'we', 'can', 'help', 'stop', 'any', 'creditor', 'harassment', 'consolidate', 'regardless', 'of', 'past', 'credit', 'history', 'quick', 'confidential', 'no', 'obligations', 'click', 'on', 'the', 'link', 'below', 'to', 'get', 'started', 'urllink', 'to', 'be', 'removed', 'from', 'all', 'further', 'mailings', 'please', 'send', 'a', 'message', 'to', 'numberpresent', 'remove', 'webs', 'mysprintfast', 'com', 'we', 'honor', 'all', 'remove', 'requests']\n",
      "\n",
      "\n",
      "\n",
      "['numberpresent', 'debt', 'help', 'pay', 'bills', 'click', 'free', 'consultation', 'urllink', 'cut', 'monthly', 'payments', 'numberpresent', 'even', 'stop', 'paying', 'creditors', 'high', 'interest', 'rates', 'better', 'manage', 'financial', 'situation', 'keep', 'cash', 'every', 'month', 'help', 'stop', 'creditor', 'harassment', 'consolidate', 'regardless', 'past', 'credit', 'history', 'quick', 'confidential', 'obligations', 'click', 'link', 'get', 'started', 'urllink', 'removed', 'mailings', 'please', 'send', 'message', 'numberpresent', 'remove', 'webs', 'mysprintfast', 'com', 'honor', 'remove', 'requests']\n",
      "\n",
      "\n",
      "\n",
      "True\n"
     ]
    }
   ],
   "source": [
    "with open(\"C:\\\\Users\\\\Windows10\\\\Desktop\\\\Machine Learning\\\\Spam Classifier\\\\Spam\\\\spam_2\\\\00015.206d5a5d1d34272ae32fc286788fdf55\") as f:\n",
    "#     print(f)\n",
    "#     for line in f:\n",
    "#         print(line)\n",
    "        \n",
    "    mail = email.parser.Parser(policy = policy.default).parse(f)\n",
    "    extractor = URLExtract()\n",
    "    mail = BeautifulSoup(mail.get_payload()).get_text().replace(\"\\n\\n\\n\", \"\")\n",
    "    urls = extractor.find_urls(mail)\n",
    "    for i in urls:\n",
    "        mail = mail.replace(i, \" URLLINK \")\n",
    "    mail = re.sub(\"[!@#$%^&*()\\[\\]{};:,./<>?\\|`~\\-=_+]\", \" \", mail)\n",
    "    mail = re.sub(\"[0-9]+\", \" numberpresent \", mail)\n",
    "    mail = mail.lower()\n",
    "    words = word_tokenize(mail)\n",
    "    print(mail)\n",
    "    print()\n",
    "    print(words)\n",
    "    print(\"\\n\\n\")\n",
    "    words = [w for w in words if w not in stopwords.words('english')]\n",
    "    print(words)\n",
    "    print(\"\\n\\n\")\n",
    "    stemmer = PorterStemmer()\n",
    "    words = [stemmer.stem(w) for w in words]\n",
    "    \n",
    "    wordling = [stemmer.stem(w) for w in word_tokenize(mail) if w not in stopwords.words('english')]\n",
    "    print(wordling == words)"
   ]
  },
  {
   "cell_type": "code",
   "execution_count": 29,
   "metadata": {},
   "outputs": [
    {
     "name": "stdout",
     "output_type": "stream",
     "text": [
      "numberpres debt help pay bill click free consult urllink cut monthli payment numberpres even stop pay creditor high interest rate better manag financi situat keep cash everi month help stop creditor harass consolid regardless past credit histori quick confidenti oblig click link get start urllink remov mail pleas send messag numberpres remov web mysprintfast com honor remov request\n"
     ]
    },
    {
     "ename": "AttributeError",
     "evalue": "module 'matplotlib' has no attribute 'imshow'",
     "output_type": "error",
     "traceback": [
      "\u001b[1;31m---------------------------------------------------------------------------\u001b[0m",
      "\u001b[1;31mAttributeError\u001b[0m                            Traceback (most recent call last)",
      "\u001b[1;32m<ipython-input-29-548974ea26a6>\u001b[0m in \u001b[0;36m<module>\u001b[1;34m\u001b[0m\n\u001b[0;32m      8\u001b[0m \u001b[1;33m\u001b[0m\u001b[0m\n\u001b[0;32m      9\u001b[0m \u001b[0mplt\u001b[0m\u001b[1;33m.\u001b[0m\u001b[0mfigure\u001b[0m\u001b[1;33m.\u001b[0m\u001b[0mFigure\u001b[0m\u001b[1;33m(\u001b[0m\u001b[0mfigsize\u001b[0m \u001b[1;33m=\u001b[0m \u001b[1;33m(\u001b[0m\u001b[1;36m8\u001b[0m\u001b[1;33m,\u001b[0m \u001b[1;36m8\u001b[0m\u001b[1;33m)\u001b[0m\u001b[1;33m,\u001b[0m \u001b[0mfacecolor\u001b[0m \u001b[1;33m=\u001b[0m \u001b[1;32mNone\u001b[0m\u001b[1;33m)\u001b[0m\u001b[1;33m\u001b[0m\u001b[1;33m\u001b[0m\u001b[0m\n\u001b[1;32m---> 10\u001b[1;33m \u001b[0mplt\u001b[0m\u001b[1;33m.\u001b[0m\u001b[0mimshow\u001b[0m\u001b[1;33m(\u001b[0m\u001b[0mcloud\u001b[0m\u001b[1;33m)\u001b[0m\u001b[1;33m\u001b[0m\u001b[1;33m\u001b[0m\u001b[0m\n\u001b[0m\u001b[0;32m     11\u001b[0m \u001b[0mplt\u001b[0m\u001b[1;33m.\u001b[0m\u001b[0maxis\u001b[0m\u001b[1;33m(\u001b[0m\u001b[1;34m\"off\"\u001b[0m\u001b[1;33m)\u001b[0m\u001b[1;33m\u001b[0m\u001b[1;33m\u001b[0m\u001b[0m\n\u001b[0;32m     12\u001b[0m \u001b[0mplt\u001b[0m\u001b[1;33m.\u001b[0m\u001b[0mtight_layout\u001b[0m\u001b[1;33m(\u001b[0m\u001b[0mpad\u001b[0m \u001b[1;33m=\u001b[0m \u001b[1;36m0\u001b[0m\u001b[1;33m)\u001b[0m\u001b[1;33m\u001b[0m\u001b[1;33m\u001b[0m\u001b[0m\n",
      "\u001b[1;31mAttributeError\u001b[0m: module 'matplotlib' has no attribute 'imshow'"
     ]
    }
   ],
   "source": [
    "stopwords = set(STOPWORDS)\n",
    "# stopwords = [\"urllink\", \"numberpresent\"]\n",
    "wordddd = \" \".join(wordling)\n",
    "print(wordddd)\n",
    "\n",
    "cloud = WordCloud(width = 800, height = 800, background_color = \"white\", stopwords = stopwords, min_font_size = 10)\\\n",
    "            .generate(wordddd)\n",
    "\n",
    "plt.figure.Figure(figsize = (8, 8), facecolor = None)\n",
    "plt.imshow(cloud) \n",
    "plt.axis(\"off\") \n",
    "plt.tight_layout(pad = 0) \n",
    "  \n",
    "plt.show() "
   ]
  },
  {
   "cell_type": "code",
   "execution_count": null,
   "metadata": {},
   "outputs": [],
   "source": [
    "a = [name for name in os.listdir(\".\\\\Spam\\\\spam\")]\n",
    "a\n"
   ]
  },
  {
   "cell_type": "code",
   "execution_count": null,
   "metadata": {},
   "outputs": [],
   "source": [
    "with open(\"C:\\\\Users\\\\Windows10\\\\Desktop\\\\Machine Learning\\\\Spam Classifier\\\\Spam\\\\spam\\\\00263.13fc73e09ae15e0023bdb13d0a010f2d\") as f:\n",
    "#     print(f)\n",
    "#     for line in f:\n",
    "#         print(line)\n",
    "        \n",
    "    mail = email.parser.BytesParser(policy = policy.default).parse(f)\n",
    "    for x in mail.walk():\n",
    "        print(x.get_payload()[0].get_content())"
   ]
  },
  {
   "cell_type": "code",
   "execution_count": null,
   "metadata": {},
   "outputs": [],
   "source": [
    "def lol(x):\n",
    "    return ([x * 10], [x*100])"
   ]
  },
  {
   "cell_type": "code",
   "execution_count": null,
   "metadata": {},
   "outputs": [],
   "source": [
    "ten = []\n",
    "hundred = []\n",
    "# ten += lol(5)\n",
    "ten, hundred = (ten, hundred) + lol(5)\n",
    "ten, hundred = (ten, hundred) + lol(9)\n",
    "# [ten, hundred]\n",
    "print(ten, hundred)"
   ]
  },
  {
   "cell_type": "code",
   "execution_count": 6,
   "metadata": {},
   "outputs": [
    {
     "data": {
      "text/plain": [
       "([1], [2], [3], [4])"
      ]
     },
     "execution_count": 6,
     "metadata": {},
     "output_type": "execute_result"
    }
   ],
   "source": [
    "# o, p = [[1, 2] + [3, 4]]\n",
    "([1], [2]) + ([3], [4])\n",
    "# print(x, y)"
   ]
  }
 ],
 "metadata": {
  "kernelspec": {
   "display_name": "Python 3",
   "language": "python",
   "name": "python3"
  },
  "language_info": {
   "codemirror_mode": {
    "name": "ipython",
    "version": 3
   },
   "file_extension": ".py",
   "mimetype": "text/x-python",
   "name": "python",
   "nbconvert_exporter": "python",
   "pygments_lexer": "ipython3",
   "version": "3.7.3"
  }
 },
 "nbformat": 4,
 "nbformat_minor": 4
}
